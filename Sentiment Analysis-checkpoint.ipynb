{
 "cells": [
  {
   "cell_type": "code",
   "execution_count": 1,
   "id": "f3063790-26d7-4789-8f9e-ad06efce9c22",
   "metadata": {},
   "outputs": [],
   "source": [
    "import pandas as pd\n",
    "import matplotlib.pyplot as plt\n",
    "import numpy as np\n",
    "import seaborn as sns"
   ]
  },
  {
   "cell_type": "code",
   "execution_count": 2,
   "id": "5ab2424e-f155-48d9-88b2-d52771fd87c6",
   "metadata": {},
   "outputs": [],
   "source": [
    "sentiment_df =pd.read_csv(r\"C:\\Users\\nidhi\\Downloads\\fear_greed_index.csv\")\n"
   ]
  },
  {
   "cell_type": "code",
   "execution_count": 3,
   "id": "7c2670e4-ad3e-4e00-9a07-9f1949704812",
   "metadata": {},
   "outputs": [
    {
     "data": {
      "text/html": [
       "<div>\n",
       "<style scoped>\n",
       "    .dataframe tbody tr th:only-of-type {\n",
       "        vertical-align: middle;\n",
       "    }\n",
       "\n",
       "    .dataframe tbody tr th {\n",
       "        vertical-align: top;\n",
       "    }\n",
       "\n",
       "    .dataframe thead th {\n",
       "        text-align: right;\n",
       "    }\n",
       "</style>\n",
       "<table border=\"1\" class=\"dataframe\">\n",
       "  <thead>\n",
       "    <tr style=\"text-align: right;\">\n",
       "      <th></th>\n",
       "      <th>timestamp</th>\n",
       "      <th>value</th>\n",
       "      <th>classification</th>\n",
       "      <th>date</th>\n",
       "    </tr>\n",
       "  </thead>\n",
       "  <tbody>\n",
       "    <tr>\n",
       "      <th>0</th>\n",
       "      <td>1517463000</td>\n",
       "      <td>30</td>\n",
       "      <td>Fear</td>\n",
       "      <td>01-02-2018</td>\n",
       "    </tr>\n",
       "    <tr>\n",
       "      <th>1</th>\n",
       "      <td>1517549400</td>\n",
       "      <td>15</td>\n",
       "      <td>Extreme Fear</td>\n",
       "      <td>02-02-2018</td>\n",
       "    </tr>\n",
       "    <tr>\n",
       "      <th>2</th>\n",
       "      <td>1517635800</td>\n",
       "      <td>40</td>\n",
       "      <td>Fear</td>\n",
       "      <td>03-02-2018</td>\n",
       "    </tr>\n",
       "    <tr>\n",
       "      <th>3</th>\n",
       "      <td>1517722200</td>\n",
       "      <td>24</td>\n",
       "      <td>Extreme Fear</td>\n",
       "      <td>04-02-2018</td>\n",
       "    </tr>\n",
       "    <tr>\n",
       "      <th>4</th>\n",
       "      <td>1517808600</td>\n",
       "      <td>11</td>\n",
       "      <td>Extreme Fear</td>\n",
       "      <td>05-02-2018</td>\n",
       "    </tr>\n",
       "    <tr>\n",
       "      <th>...</th>\n",
       "      <td>...</td>\n",
       "      <td>...</td>\n",
       "      <td>...</td>\n",
       "      <td>...</td>\n",
       "    </tr>\n",
       "    <tr>\n",
       "      <th>2639</th>\n",
       "      <td>1745818200</td>\n",
       "      <td>54</td>\n",
       "      <td>Neutral</td>\n",
       "      <td>28-04-2025</td>\n",
       "    </tr>\n",
       "    <tr>\n",
       "      <th>2640</th>\n",
       "      <td>1745904600</td>\n",
       "      <td>60</td>\n",
       "      <td>Greed</td>\n",
       "      <td>29-04-2025</td>\n",
       "    </tr>\n",
       "    <tr>\n",
       "      <th>2641</th>\n",
       "      <td>1745991000</td>\n",
       "      <td>56</td>\n",
       "      <td>Greed</td>\n",
       "      <td>30-04-2025</td>\n",
       "    </tr>\n",
       "    <tr>\n",
       "      <th>2642</th>\n",
       "      <td>1746077400</td>\n",
       "      <td>53</td>\n",
       "      <td>Neutral</td>\n",
       "      <td>01-05-2025</td>\n",
       "    </tr>\n",
       "    <tr>\n",
       "      <th>2643</th>\n",
       "      <td>1746163800</td>\n",
       "      <td>67</td>\n",
       "      <td>Greed</td>\n",
       "      <td>02-05-2025</td>\n",
       "    </tr>\n",
       "  </tbody>\n",
       "</table>\n",
       "<p>2644 rows × 4 columns</p>\n",
       "</div>"
      ],
      "text/plain": [
       "       timestamp  value classification        date\n",
       "0     1517463000     30           Fear  01-02-2018\n",
       "1     1517549400     15   Extreme Fear  02-02-2018\n",
       "2     1517635800     40           Fear  03-02-2018\n",
       "3     1517722200     24   Extreme Fear  04-02-2018\n",
       "4     1517808600     11   Extreme Fear  05-02-2018\n",
       "...          ...    ...            ...         ...\n",
       "2639  1745818200     54        Neutral  28-04-2025\n",
       "2640  1745904600     60          Greed  29-04-2025\n",
       "2641  1745991000     56          Greed  30-04-2025\n",
       "2642  1746077400     53        Neutral  01-05-2025\n",
       "2643  1746163800     67          Greed  02-05-2025\n",
       "\n",
       "[2644 rows x 4 columns]"
      ]
     },
     "execution_count": 3,
     "metadata": {},
     "output_type": "execute_result"
    }
   ],
   "source": [
    "sentiment_df"
   ]
  },
  {
   "cell_type": "code",
   "execution_count": 4,
   "id": "257ffd37-0f3c-4fd3-a580-c63ea7879a0d",
   "metadata": {},
   "outputs": [],
   "source": [
    "trade_df = pd.read_csv(r\"C:\\Users\\nidhi\\Downloads\\historical_data.csv\")"
   ]
  },
  {
   "cell_type": "code",
   "execution_count": 5,
   "id": "c9601358-d07f-4998-802c-61629dfcd9c3",
   "metadata": {},
   "outputs": [
    {
     "data": {
      "text/html": [
       "<div>\n",
       "<style scoped>\n",
       "    .dataframe tbody tr th:only-of-type {\n",
       "        vertical-align: middle;\n",
       "    }\n",
       "\n",
       "    .dataframe tbody tr th {\n",
       "        vertical-align: top;\n",
       "    }\n",
       "\n",
       "    .dataframe thead th {\n",
       "        text-align: right;\n",
       "    }\n",
       "</style>\n",
       "<table border=\"1\" class=\"dataframe\">\n",
       "  <thead>\n",
       "    <tr style=\"text-align: right;\">\n",
       "      <th></th>\n",
       "      <th>Account</th>\n",
       "      <th>Coin</th>\n",
       "      <th>Execution Price</th>\n",
       "      <th>Size Tokens</th>\n",
       "      <th>Size USD</th>\n",
       "      <th>Side</th>\n",
       "      <th>Timestamp IST</th>\n",
       "      <th>Start Position</th>\n",
       "      <th>Direction</th>\n",
       "      <th>Closed PnL</th>\n",
       "      <th>Transaction Hash</th>\n",
       "      <th>Order ID</th>\n",
       "      <th>Crossed</th>\n",
       "      <th>Fee</th>\n",
       "      <th>Trade ID</th>\n",
       "      <th>Timestamp</th>\n",
       "    </tr>\n",
       "  </thead>\n",
       "  <tbody>\n",
       "    <tr>\n",
       "      <th>0</th>\n",
       "      <td>0xae5eacaf9c6b9111fd53034a602c192a04e082ed</td>\n",
       "      <td>@107</td>\n",
       "      <td>7.9769</td>\n",
       "      <td>986.87</td>\n",
       "      <td>7872.16</td>\n",
       "      <td>BUY</td>\n",
       "      <td>02-12-2024 22:50</td>\n",
       "      <td>0.000000</td>\n",
       "      <td>Buy</td>\n",
       "      <td>0.0000</td>\n",
       "      <td>0xec09451986a1874e3a980418412fcd0201f500c95bac...</td>\n",
       "      <td>52017706630</td>\n",
       "      <td>True</td>\n",
       "      <td>0.345404</td>\n",
       "      <td>8.950000e+14</td>\n",
       "      <td>1.730000e+12</td>\n",
       "    </tr>\n",
       "    <tr>\n",
       "      <th>1</th>\n",
       "      <td>0xae5eacaf9c6b9111fd53034a602c192a04e082ed</td>\n",
       "      <td>@107</td>\n",
       "      <td>7.9800</td>\n",
       "      <td>16.00</td>\n",
       "      <td>127.68</td>\n",
       "      <td>BUY</td>\n",
       "      <td>02-12-2024 22:50</td>\n",
       "      <td>986.524596</td>\n",
       "      <td>Buy</td>\n",
       "      <td>0.0000</td>\n",
       "      <td>0xec09451986a1874e3a980418412fcd0201f500c95bac...</td>\n",
       "      <td>52017706630</td>\n",
       "      <td>True</td>\n",
       "      <td>0.005600</td>\n",
       "      <td>4.430000e+14</td>\n",
       "      <td>1.730000e+12</td>\n",
       "    </tr>\n",
       "    <tr>\n",
       "      <th>2</th>\n",
       "      <td>0xae5eacaf9c6b9111fd53034a602c192a04e082ed</td>\n",
       "      <td>@107</td>\n",
       "      <td>7.9855</td>\n",
       "      <td>144.09</td>\n",
       "      <td>1150.63</td>\n",
       "      <td>BUY</td>\n",
       "      <td>02-12-2024 22:50</td>\n",
       "      <td>1002.518996</td>\n",
       "      <td>Buy</td>\n",
       "      <td>0.0000</td>\n",
       "      <td>0xec09451986a1874e3a980418412fcd0201f500c95bac...</td>\n",
       "      <td>52017706630</td>\n",
       "      <td>True</td>\n",
       "      <td>0.050431</td>\n",
       "      <td>6.600000e+14</td>\n",
       "      <td>1.730000e+12</td>\n",
       "    </tr>\n",
       "    <tr>\n",
       "      <th>3</th>\n",
       "      <td>0xae5eacaf9c6b9111fd53034a602c192a04e082ed</td>\n",
       "      <td>@107</td>\n",
       "      <td>7.9874</td>\n",
       "      <td>142.98</td>\n",
       "      <td>1142.04</td>\n",
       "      <td>BUY</td>\n",
       "      <td>02-12-2024 22:50</td>\n",
       "      <td>1146.558564</td>\n",
       "      <td>Buy</td>\n",
       "      <td>0.0000</td>\n",
       "      <td>0xec09451986a1874e3a980418412fcd0201f500c95bac...</td>\n",
       "      <td>52017706630</td>\n",
       "      <td>True</td>\n",
       "      <td>0.050043</td>\n",
       "      <td>1.080000e+15</td>\n",
       "      <td>1.730000e+12</td>\n",
       "    </tr>\n",
       "    <tr>\n",
       "      <th>4</th>\n",
       "      <td>0xae5eacaf9c6b9111fd53034a602c192a04e082ed</td>\n",
       "      <td>@107</td>\n",
       "      <td>7.9894</td>\n",
       "      <td>8.73</td>\n",
       "      <td>69.75</td>\n",
       "      <td>BUY</td>\n",
       "      <td>02-12-2024 22:50</td>\n",
       "      <td>1289.488521</td>\n",
       "      <td>Buy</td>\n",
       "      <td>0.0000</td>\n",
       "      <td>0xec09451986a1874e3a980418412fcd0201f500c95bac...</td>\n",
       "      <td>52017706630</td>\n",
       "      <td>True</td>\n",
       "      <td>0.003055</td>\n",
       "      <td>1.050000e+15</td>\n",
       "      <td>1.730000e+12</td>\n",
       "    </tr>\n",
       "    <tr>\n",
       "      <th>...</th>\n",
       "      <td>...</td>\n",
       "      <td>...</td>\n",
       "      <td>...</td>\n",
       "      <td>...</td>\n",
       "      <td>...</td>\n",
       "      <td>...</td>\n",
       "      <td>...</td>\n",
       "      <td>...</td>\n",
       "      <td>...</td>\n",
       "      <td>...</td>\n",
       "      <td>...</td>\n",
       "      <td>...</td>\n",
       "      <td>...</td>\n",
       "      <td>...</td>\n",
       "      <td>...</td>\n",
       "      <td>...</td>\n",
       "    </tr>\n",
       "    <tr>\n",
       "      <th>211219</th>\n",
       "      <td>0x72743ae2822edd658c0c50608fd7c5c501b2afbd</td>\n",
       "      <td>FARTCOIN</td>\n",
       "      <td>1.1010</td>\n",
       "      <td>382.20</td>\n",
       "      <td>420.80</td>\n",
       "      <td>SELL</td>\n",
       "      <td>25-04-2025 15:35</td>\n",
       "      <td>7546.600000</td>\n",
       "      <td>Close Long</td>\n",
       "      <td>-20.2566</td>\n",
       "      <td>0xcd339c08dc7b615a993c0422374d8e02027400092bc2...</td>\n",
       "      <td>88803313862</td>\n",
       "      <td>False</td>\n",
       "      <td>0.042080</td>\n",
       "      <td>1.990000e+14</td>\n",
       "      <td>1.750000e+12</td>\n",
       "    </tr>\n",
       "    <tr>\n",
       "      <th>211220</th>\n",
       "      <td>0x72743ae2822edd658c0c50608fd7c5c501b2afbd</td>\n",
       "      <td>FARTCOIN</td>\n",
       "      <td>1.1010</td>\n",
       "      <td>2124.10</td>\n",
       "      <td>2338.63</td>\n",
       "      <td>SELL</td>\n",
       "      <td>25-04-2025 15:35</td>\n",
       "      <td>7164.400000</td>\n",
       "      <td>Close Long</td>\n",
       "      <td>-112.5773</td>\n",
       "      <td>0x29e8ede2a3a37aa0eac00422374d8e02029b00ac9f3c...</td>\n",
       "      <td>88803313862</td>\n",
       "      <td>False</td>\n",
       "      <td>0.233863</td>\n",
       "      <td>9.260000e+14</td>\n",
       "      <td>1.750000e+12</td>\n",
       "    </tr>\n",
       "    <tr>\n",
       "      <th>211221</th>\n",
       "      <td>0x72743ae2822edd658c0c50608fd7c5c501b2afbd</td>\n",
       "      <td>FARTCOIN</td>\n",
       "      <td>1.1010</td>\n",
       "      <td>423.40</td>\n",
       "      <td>466.16</td>\n",
       "      <td>SELL</td>\n",
       "      <td>25-04-2025 15:35</td>\n",
       "      <td>5040.300000</td>\n",
       "      <td>Close Long</td>\n",
       "      <td>-22.4402</td>\n",
       "      <td>0x0780085b0c0a943eea800422374d920204c100edf579...</td>\n",
       "      <td>88803313862</td>\n",
       "      <td>False</td>\n",
       "      <td>0.046616</td>\n",
       "      <td>6.930000e+14</td>\n",
       "      <td>1.750000e+12</td>\n",
       "    </tr>\n",
       "    <tr>\n",
       "      <th>211222</th>\n",
       "      <td>0x72743ae2822edd658c0c50608fd7c5c501b2afbd</td>\n",
       "      <td>FARTCOIN</td>\n",
       "      <td>1.1010</td>\n",
       "      <td>3599.80</td>\n",
       "      <td>3963.38</td>\n",
       "      <td>SELL</td>\n",
       "      <td>25-04-2025 15:35</td>\n",
       "      <td>4616.900000</td>\n",
       "      <td>Close Long</td>\n",
       "      <td>-190.7894</td>\n",
       "      <td>0x349c29934913b25c89e20422374d920204cd008b8a0e...</td>\n",
       "      <td>88803313862</td>\n",
       "      <td>False</td>\n",
       "      <td>0.396337</td>\n",
       "      <td>4.180000e+14</td>\n",
       "      <td>1.750000e+12</td>\n",
       "    </tr>\n",
       "    <tr>\n",
       "      <th>211223</th>\n",
       "      <td>0x72743ae2822edd658c0c50608fd7c5c501b2afbd</td>\n",
       "      <td>FARTCOIN</td>\n",
       "      <td>1.1010</td>\n",
       "      <td>1017.10</td>\n",
       "      <td>1119.83</td>\n",
       "      <td>SELL</td>\n",
       "      <td>25-04-2025 15:35</td>\n",
       "      <td>1017.100000</td>\n",
       "      <td>Close Long</td>\n",
       "      <td>-53.9063</td>\n",
       "      <td>0xac77fab973c455d77a670422374d9602039800f1f78c...</td>\n",
       "      <td>88803313862</td>\n",
       "      <td>False</td>\n",
       "      <td>0.111982</td>\n",
       "      <td>3.270000e+14</td>\n",
       "      <td>1.750000e+12</td>\n",
       "    </tr>\n",
       "  </tbody>\n",
       "</table>\n",
       "<p>211224 rows × 16 columns</p>\n",
       "</div>"
      ],
      "text/plain": [
       "                                           Account      Coin  Execution Price  \\\n",
       "0       0xae5eacaf9c6b9111fd53034a602c192a04e082ed      @107           7.9769   \n",
       "1       0xae5eacaf9c6b9111fd53034a602c192a04e082ed      @107           7.9800   \n",
       "2       0xae5eacaf9c6b9111fd53034a602c192a04e082ed      @107           7.9855   \n",
       "3       0xae5eacaf9c6b9111fd53034a602c192a04e082ed      @107           7.9874   \n",
       "4       0xae5eacaf9c6b9111fd53034a602c192a04e082ed      @107           7.9894   \n",
       "...                                            ...       ...              ...   \n",
       "211219  0x72743ae2822edd658c0c50608fd7c5c501b2afbd  FARTCOIN           1.1010   \n",
       "211220  0x72743ae2822edd658c0c50608fd7c5c501b2afbd  FARTCOIN           1.1010   \n",
       "211221  0x72743ae2822edd658c0c50608fd7c5c501b2afbd  FARTCOIN           1.1010   \n",
       "211222  0x72743ae2822edd658c0c50608fd7c5c501b2afbd  FARTCOIN           1.1010   \n",
       "211223  0x72743ae2822edd658c0c50608fd7c5c501b2afbd  FARTCOIN           1.1010   \n",
       "\n",
       "        Size Tokens  Size USD  Side     Timestamp IST  Start Position  \\\n",
       "0            986.87   7872.16   BUY  02-12-2024 22:50        0.000000   \n",
       "1             16.00    127.68   BUY  02-12-2024 22:50      986.524596   \n",
       "2            144.09   1150.63   BUY  02-12-2024 22:50     1002.518996   \n",
       "3            142.98   1142.04   BUY  02-12-2024 22:50     1146.558564   \n",
       "4              8.73     69.75   BUY  02-12-2024 22:50     1289.488521   \n",
       "...             ...       ...   ...               ...             ...   \n",
       "211219       382.20    420.80  SELL  25-04-2025 15:35     7546.600000   \n",
       "211220      2124.10   2338.63  SELL  25-04-2025 15:35     7164.400000   \n",
       "211221       423.40    466.16  SELL  25-04-2025 15:35     5040.300000   \n",
       "211222      3599.80   3963.38  SELL  25-04-2025 15:35     4616.900000   \n",
       "211223      1017.10   1119.83  SELL  25-04-2025 15:35     1017.100000   \n",
       "\n",
       "         Direction  Closed PnL  \\\n",
       "0              Buy      0.0000   \n",
       "1              Buy      0.0000   \n",
       "2              Buy      0.0000   \n",
       "3              Buy      0.0000   \n",
       "4              Buy      0.0000   \n",
       "...            ...         ...   \n",
       "211219  Close Long    -20.2566   \n",
       "211220  Close Long   -112.5773   \n",
       "211221  Close Long    -22.4402   \n",
       "211222  Close Long   -190.7894   \n",
       "211223  Close Long    -53.9063   \n",
       "\n",
       "                                         Transaction Hash     Order ID  \\\n",
       "0       0xec09451986a1874e3a980418412fcd0201f500c95bac...  52017706630   \n",
       "1       0xec09451986a1874e3a980418412fcd0201f500c95bac...  52017706630   \n",
       "2       0xec09451986a1874e3a980418412fcd0201f500c95bac...  52017706630   \n",
       "3       0xec09451986a1874e3a980418412fcd0201f500c95bac...  52017706630   \n",
       "4       0xec09451986a1874e3a980418412fcd0201f500c95bac...  52017706630   \n",
       "...                                                   ...          ...   \n",
       "211219  0xcd339c08dc7b615a993c0422374d8e02027400092bc2...  88803313862   \n",
       "211220  0x29e8ede2a3a37aa0eac00422374d8e02029b00ac9f3c...  88803313862   \n",
       "211221  0x0780085b0c0a943eea800422374d920204c100edf579...  88803313862   \n",
       "211222  0x349c29934913b25c89e20422374d920204cd008b8a0e...  88803313862   \n",
       "211223  0xac77fab973c455d77a670422374d9602039800f1f78c...  88803313862   \n",
       "\n",
       "        Crossed       Fee      Trade ID     Timestamp  \n",
       "0          True  0.345404  8.950000e+14  1.730000e+12  \n",
       "1          True  0.005600  4.430000e+14  1.730000e+12  \n",
       "2          True  0.050431  6.600000e+14  1.730000e+12  \n",
       "3          True  0.050043  1.080000e+15  1.730000e+12  \n",
       "4          True  0.003055  1.050000e+15  1.730000e+12  \n",
       "...         ...       ...           ...           ...  \n",
       "211219    False  0.042080  1.990000e+14  1.750000e+12  \n",
       "211220    False  0.233863  9.260000e+14  1.750000e+12  \n",
       "211221    False  0.046616  6.930000e+14  1.750000e+12  \n",
       "211222    False  0.396337  4.180000e+14  1.750000e+12  \n",
       "211223    False  0.111982  3.270000e+14  1.750000e+12  \n",
       "\n",
       "[211224 rows x 16 columns]"
      ]
     },
     "execution_count": 5,
     "metadata": {},
     "output_type": "execute_result"
    }
   ],
   "source": [
    "trade_df"
   ]
  },
  {
   "cell_type": "code",
   "execution_count": 6,
   "id": "226e1875-2993-4931-91a3-46805adc96b3",
   "metadata": {},
   "outputs": [
    {
     "name": "stdout",
     "output_type": "stream",
     "text": [
      "<class 'pandas.core.frame.DataFrame'>\n",
      "RangeIndex: 211224 entries, 0 to 211223\n",
      "Data columns (total 16 columns):\n",
      " #   Column            Non-Null Count   Dtype  \n",
      "---  ------            --------------   -----  \n",
      " 0   Account           211224 non-null  object \n",
      " 1   Coin              211224 non-null  object \n",
      " 2   Execution Price   211224 non-null  float64\n",
      " 3   Size Tokens       211224 non-null  float64\n",
      " 4   Size USD          211224 non-null  float64\n",
      " 5   Side              211224 non-null  object \n",
      " 6   Timestamp IST     211224 non-null  object \n",
      " 7   Start Position    211224 non-null  float64\n",
      " 8   Direction         211224 non-null  object \n",
      " 9   Closed PnL        211224 non-null  float64\n",
      " 10  Transaction Hash  211224 non-null  object \n",
      " 11  Order ID          211224 non-null  int64  \n",
      " 12  Crossed           211224 non-null  bool   \n",
      " 13  Fee               211224 non-null  float64\n",
      " 14  Trade ID          211224 non-null  float64\n",
      " 15  Timestamp         211224 non-null  float64\n",
      "dtypes: bool(1), float64(8), int64(1), object(6)\n",
      "memory usage: 24.4+ MB\n"
     ]
    }
   ],
   "source": [
    "trade_df.info()"
   ]
  },
  {
   "cell_type": "code",
   "execution_count": 7,
   "id": "8f243aac-0088-446c-9f60-e40b74c9bc42",
   "metadata": {},
   "outputs": [
    {
     "data": {
      "text/plain": [
       "np.False_"
      ]
     },
     "execution_count": 7,
     "metadata": {},
     "output_type": "execute_result"
    }
   ],
   "source": [
    "sentiment_df.isnull().value.any()"
   ]
  },
  {
   "cell_type": "code",
   "execution_count": 8,
   "id": "8effce3d-b7cf-4687-8e2c-1e8b196ac33e",
   "metadata": {},
   "outputs": [
    {
     "data": {
      "text/plain": [
       "np.False_"
      ]
     },
     "execution_count": 8,
     "metadata": {},
     "output_type": "execute_result"
    }
   ],
   "source": [
    "trade_df.isnull().values.any()"
   ]
  },
  {
   "cell_type": "code",
   "execution_count": 9,
   "id": "9b353d78-18cf-4e9d-9578-1a0c3481617f",
   "metadata": {},
   "outputs": [
    {
     "data": {
      "text/plain": [
       "Index(['timestamp', 'value', 'classification', 'date'], dtype='object')"
      ]
     },
     "execution_count": 9,
     "metadata": {},
     "output_type": "execute_result"
    }
   ],
   "source": [
    "sentiment_df.columns"
   ]
  },
  {
   "cell_type": "code",
   "execution_count": 10,
   "id": "7c16056c-1527-4b35-a079-32b272d6355b",
   "metadata": {},
   "outputs": [
    {
     "data": {
      "text/plain": [
       "Index(['Account', 'Coin', 'Execution Price', 'Size Tokens', 'Size USD', 'Side',\n",
       "       'Timestamp IST', 'Start Position', 'Direction', 'Closed PnL',\n",
       "       'Transaction Hash', 'Order ID', 'Crossed', 'Fee', 'Trade ID',\n",
       "       'Timestamp'],\n",
       "      dtype='object')"
      ]
     },
     "execution_count": 10,
     "metadata": {},
     "output_type": "execute_result"
    }
   ],
   "source": [
    "trade_df.columns"
   ]
  },
  {
   "cell_type": "code",
   "execution_count": 11,
   "id": "72424f51-b678-4e3f-8710-cd2526474c3f",
   "metadata": {},
   "outputs": [
    {
     "data": {
      "text/plain": [
       "0         02-12-2024 22:50\n",
       "1         02-12-2024 22:50\n",
       "2         02-12-2024 22:50\n",
       "3         02-12-2024 22:50\n",
       "4         02-12-2024 22:50\n",
       "                ...       \n",
       "211219    25-04-2025 15:35\n",
       "211220    25-04-2025 15:35\n",
       "211221    25-04-2025 15:35\n",
       "211222    25-04-2025 15:35\n",
       "211223    25-04-2025 15:35\n",
       "Name: Timestamp IST, Length: 211224, dtype: object"
      ]
     },
     "execution_count": 11,
     "metadata": {},
     "output_type": "execute_result"
    }
   ],
   "source": [
    "trade_df['Timestamp IST']"
   ]
  },
  {
   "cell_type": "code",
   "execution_count": 12,
   "id": "3c7fc604-0d60-4b81-9723-6f6c03c5c60c",
   "metadata": {},
   "outputs": [],
   "source": [
    "trade_df[['Date','Time']] = trade_df['Timestamp IST'].str.split(' ',expand =True)"
   ]
  },
  {
   "cell_type": "code",
   "execution_count": 13,
   "id": "95e6c27e-98ba-4ea0-bc01-8bf1422c891d",
   "metadata": {},
   "outputs": [
    {
     "data": {
      "text/plain": [
       "Index(['Account', 'Coin', 'Execution Price', 'Size Tokens', 'Size USD', 'Side',\n",
       "       'Timestamp IST', 'Start Position', 'Direction', 'Closed PnL',\n",
       "       'Transaction Hash', 'Order ID', 'Crossed', 'Fee', 'Trade ID',\n",
       "       'Timestamp', 'Date', 'Time'],\n",
       "      dtype='object')"
      ]
     },
     "execution_count": 13,
     "metadata": {},
     "output_type": "execute_result"
    }
   ],
   "source": [
    "trade_df.columns"
   ]
  },
  {
   "cell_type": "code",
   "execution_count": 14,
   "id": "4528f0a2-096b-4d82-bcf4-92c7cbc278b7",
   "metadata": {},
   "outputs": [
    {
     "data": {
      "text/plain": [
       "0         02-12-2024\n",
       "1         02-12-2024\n",
       "2         02-12-2024\n",
       "3         02-12-2024\n",
       "4         02-12-2024\n",
       "             ...    \n",
       "211219    25-04-2025\n",
       "211220    25-04-2025\n",
       "211221    25-04-2025\n",
       "211222    25-04-2025\n",
       "211223    25-04-2025\n",
       "Name: Date, Length: 211224, dtype: object"
      ]
     },
     "execution_count": 14,
     "metadata": {},
     "output_type": "execute_result"
    }
   ],
   "source": [
    "trade_df['Date']"
   ]
  },
  {
   "cell_type": "code",
   "execution_count": 15,
   "id": "f2ae294c-5618-44e7-946c-03736066b836",
   "metadata": {},
   "outputs": [
    {
     "data": {
      "text/plain": [
       "0         22:50\n",
       "1         22:50\n",
       "2         22:50\n",
       "3         22:50\n",
       "4         22:50\n",
       "          ...  \n",
       "211219    15:35\n",
       "211220    15:35\n",
       "211221    15:35\n",
       "211222    15:35\n",
       "211223    15:35\n",
       "Name: Time, Length: 211224, dtype: object"
      ]
     },
     "execution_count": 15,
     "metadata": {},
     "output_type": "execute_result"
    }
   ],
   "source": [
    "trade_df['Time']"
   ]
  },
  {
   "cell_type": "code",
   "execution_count": 16,
   "id": "d4f39a00-a6fb-4962-ac90-f496b33230a6",
   "metadata": {},
   "outputs": [],
   "source": [
    "trade_df.drop('Timestamp IST', axis=1,inplace = True)"
   ]
  },
  {
   "cell_type": "code",
   "execution_count": 17,
   "id": "d3b34cab-9c8b-4e0f-98cf-4138e5dd9019",
   "metadata": {},
   "outputs": [
    {
     "data": {
      "text/plain": [
       "array(['@107', 'AAVE', 'DYDX', 'AIXBT', 'GMX', 'EIGEN', 'HYPE', 'SOL',\n",
       "       'SUI', 'DOGE', 'ETH', 'kPEPE', 'TRUMP', 'ONDO', 'ENA', 'LINK',\n",
       "       'XRP', 'S', 'BNB', 'BERA', 'WIF', 'LAYER', 'MKR', 'KAITO', 'IP',\n",
       "       'JUP', 'USUAL', 'ADA', 'BTC', 'PURR/USDC', 'ZRO', '@7', '@19',\n",
       "       '@21', '@44', '@48', '@11', '@15', '@46', '@61', '@28', '@45',\n",
       "       '@9', '@41', '@38', 'kSHIB', 'GRASS', 'TAO', 'AVAX', '@2', '@6',\n",
       "       '@8', '@10', '@12', '@16', '@17', '@35', '@26', '@24', '@32',\n",
       "       '@29', '@31', '@33', '@34', '@36', '@37', '@47', '@53', '@74',\n",
       "       'RUNE', 'CANTO', 'NTRN', 'BLUR', 'ZETA', 'MINA', 'MANTA', 'RNDR',\n",
       "       'WLD', 'kBONK', 'ALT', 'INJ', 'STG', 'ZEN', 'MAVIA', 'PIXEL',\n",
       "       'ILV', 'FET', 'STRK', 'CAKE', 'STX', 'ACE', 'PENDLE', 'AR', 'XAI',\n",
       "       'APE', 'MEME', 'NEAR', 'SEI', 'FTM', 'MYRO', 'BIGTIME', 'IMX',\n",
       "       'BADGER', 'POLYX', 'OP', 'TNSR', 'MAV', 'TIA', 'MERL', 'TON',\n",
       "       'PURR', 'ME', 'CRV', 'BRETT', 'CHILLGUY', 'MOODENG', 'VIRTUAL',\n",
       "       'COMP', 'FARTCOIN', 'AI16Z', 'GRIFFAIN', 'ZEREBRO', 'SPX',\n",
       "       'MELANIA', 'PENGU', 'JELLY', 'VVV', 'VINE', 'TST', 'ARK', 'YGG',\n",
       "       'POPCAT', 'NIL', 'MOVE', 'BABY', 'RENDER', 'PROMPT', 'WCT', 'OGN',\n",
       "       'HYPER', 'ZORA', 'BIO', 'INIT', 'TURBO', 'ARB', '@142', 'JTO',\n",
       "       'PYTH', 'MATIC', 'HPOS', 'FXS', 'FIL', 'SHIA', 'PEOPLE', 'UNI',\n",
       "       'SUSHI', 'LOOM', 'USTC', 'RLB', 'ETC', 'GAS', 'BANANA', 'UNIBOT',\n",
       "       'CYBER', 'GMT', 'ENS', 'DYM', 'ETHFI', '@4', '@3', '@20', '@14',\n",
       "       '@51', '@125', '@109', '@85', '@59', '@23', '@78', 'GOAT', 'LDO',\n",
       "       'PNUT', '@138', '@151', '@18', '@25', '@42', '@13', '@40', '@39',\n",
       "       '@30', '@103', '@100', '@135', '@116', '@147', '@152', '@153',\n",
       "       'ANIME', 'W', 'ORDI', 'IO', 'GALA', 'AI', 'NEIROETH', 'SAND',\n",
       "       'BOME', 'MEW', 'SUPER', 'ALGO', 'HBAR', 'APT', 'BLAST', 'kNEIRO',\n",
       "       'ATOM', 'DOT', 'kFLOKI', 'TRX', 'FTT', '@1', '@83', '@124', '@112',\n",
       "       '@95', 'LISTA', 'LTC', 'RSR', 'MNT', '@113', 'ZK', '@117', '@86',\n",
       "       '@68', '@63', 'MORPHO', 'OM', 'REZ', 'REQ', '@49', 'BNT', 'SCR',\n",
       "       'IOTA', '@93', '@114', '@123', 'PAXG'], dtype=object)"
      ]
     },
     "execution_count": 17,
     "metadata": {},
     "output_type": "execute_result"
    }
   ],
   "source": [
    "trade_df['Coin'].unique()"
   ]
  },
  {
   "cell_type": "code",
   "execution_count": 18,
   "id": "38a73abc-304a-41b0-a906-bb018dfa5fa4",
   "metadata": {},
   "outputs": [],
   "source": [
    "def clean_coin(coin):\n",
    "    if str(coin).startswith('@'):\n",
    "        return 'Unknown'\n",
    "    else:\n",
    "        return coin\n",
    "trade_df['Coin'] = trade_df['Coin'].apply(clean_coin)\n",
    "    "
   ]
  },
  {
   "cell_type": "code",
   "execution_count": 19,
   "id": "e6d59d84-edbd-4966-bb25-d0aa7e0904cd",
   "metadata": {},
   "outputs": [
    {
     "data": {
      "text/html": [
       "<div>\n",
       "<style scoped>\n",
       "    .dataframe tbody tr th:only-of-type {\n",
       "        vertical-align: middle;\n",
       "    }\n",
       "\n",
       "    .dataframe tbody tr th {\n",
       "        vertical-align: top;\n",
       "    }\n",
       "\n",
       "    .dataframe thead th {\n",
       "        text-align: right;\n",
       "    }\n",
       "</style>\n",
       "<table border=\"1\" class=\"dataframe\">\n",
       "  <thead>\n",
       "    <tr style=\"text-align: right;\">\n",
       "      <th></th>\n",
       "      <th>Account</th>\n",
       "      <th>Coin</th>\n",
       "      <th>Execution Price</th>\n",
       "      <th>Size Tokens</th>\n",
       "      <th>Size USD</th>\n",
       "      <th>Side</th>\n",
       "      <th>Start Position</th>\n",
       "      <th>Direction</th>\n",
       "      <th>Closed PnL</th>\n",
       "      <th>Transaction Hash</th>\n",
       "      <th>Order ID</th>\n",
       "      <th>Crossed</th>\n",
       "      <th>Fee</th>\n",
       "      <th>Trade ID</th>\n",
       "      <th>Timestamp</th>\n",
       "      <th>Date</th>\n",
       "      <th>Time</th>\n",
       "    </tr>\n",
       "  </thead>\n",
       "  <tbody>\n",
       "    <tr>\n",
       "      <th>0</th>\n",
       "      <td>0xae5eacaf9c6b9111fd53034a602c192a04e082ed</td>\n",
       "      <td>Unknown</td>\n",
       "      <td>7.9769</td>\n",
       "      <td>986.87</td>\n",
       "      <td>7872.16</td>\n",
       "      <td>BUY</td>\n",
       "      <td>0.000000</td>\n",
       "      <td>Buy</td>\n",
       "      <td>0.0000</td>\n",
       "      <td>0xec09451986a1874e3a980418412fcd0201f500c95bac...</td>\n",
       "      <td>52017706630</td>\n",
       "      <td>True</td>\n",
       "      <td>0.345404</td>\n",
       "      <td>8.950000e+14</td>\n",
       "      <td>1.730000e+12</td>\n",
       "      <td>02-12-2024</td>\n",
       "      <td>22:50</td>\n",
       "    </tr>\n",
       "    <tr>\n",
       "      <th>1</th>\n",
       "      <td>0xae5eacaf9c6b9111fd53034a602c192a04e082ed</td>\n",
       "      <td>Unknown</td>\n",
       "      <td>7.9800</td>\n",
       "      <td>16.00</td>\n",
       "      <td>127.68</td>\n",
       "      <td>BUY</td>\n",
       "      <td>986.524596</td>\n",
       "      <td>Buy</td>\n",
       "      <td>0.0000</td>\n",
       "      <td>0xec09451986a1874e3a980418412fcd0201f500c95bac...</td>\n",
       "      <td>52017706630</td>\n",
       "      <td>True</td>\n",
       "      <td>0.005600</td>\n",
       "      <td>4.430000e+14</td>\n",
       "      <td>1.730000e+12</td>\n",
       "      <td>02-12-2024</td>\n",
       "      <td>22:50</td>\n",
       "    </tr>\n",
       "    <tr>\n",
       "      <th>2</th>\n",
       "      <td>0xae5eacaf9c6b9111fd53034a602c192a04e082ed</td>\n",
       "      <td>Unknown</td>\n",
       "      <td>7.9855</td>\n",
       "      <td>144.09</td>\n",
       "      <td>1150.63</td>\n",
       "      <td>BUY</td>\n",
       "      <td>1002.518996</td>\n",
       "      <td>Buy</td>\n",
       "      <td>0.0000</td>\n",
       "      <td>0xec09451986a1874e3a980418412fcd0201f500c95bac...</td>\n",
       "      <td>52017706630</td>\n",
       "      <td>True</td>\n",
       "      <td>0.050431</td>\n",
       "      <td>6.600000e+14</td>\n",
       "      <td>1.730000e+12</td>\n",
       "      <td>02-12-2024</td>\n",
       "      <td>22:50</td>\n",
       "    </tr>\n",
       "    <tr>\n",
       "      <th>3</th>\n",
       "      <td>0xae5eacaf9c6b9111fd53034a602c192a04e082ed</td>\n",
       "      <td>Unknown</td>\n",
       "      <td>7.9874</td>\n",
       "      <td>142.98</td>\n",
       "      <td>1142.04</td>\n",
       "      <td>BUY</td>\n",
       "      <td>1146.558564</td>\n",
       "      <td>Buy</td>\n",
       "      <td>0.0000</td>\n",
       "      <td>0xec09451986a1874e3a980418412fcd0201f500c95bac...</td>\n",
       "      <td>52017706630</td>\n",
       "      <td>True</td>\n",
       "      <td>0.050043</td>\n",
       "      <td>1.080000e+15</td>\n",
       "      <td>1.730000e+12</td>\n",
       "      <td>02-12-2024</td>\n",
       "      <td>22:50</td>\n",
       "    </tr>\n",
       "    <tr>\n",
       "      <th>4</th>\n",
       "      <td>0xae5eacaf9c6b9111fd53034a602c192a04e082ed</td>\n",
       "      <td>Unknown</td>\n",
       "      <td>7.9894</td>\n",
       "      <td>8.73</td>\n",
       "      <td>69.75</td>\n",
       "      <td>BUY</td>\n",
       "      <td>1289.488521</td>\n",
       "      <td>Buy</td>\n",
       "      <td>0.0000</td>\n",
       "      <td>0xec09451986a1874e3a980418412fcd0201f500c95bac...</td>\n",
       "      <td>52017706630</td>\n",
       "      <td>True</td>\n",
       "      <td>0.003055</td>\n",
       "      <td>1.050000e+15</td>\n",
       "      <td>1.730000e+12</td>\n",
       "      <td>02-12-2024</td>\n",
       "      <td>22:50</td>\n",
       "    </tr>\n",
       "    <tr>\n",
       "      <th>...</th>\n",
       "      <td>...</td>\n",
       "      <td>...</td>\n",
       "      <td>...</td>\n",
       "      <td>...</td>\n",
       "      <td>...</td>\n",
       "      <td>...</td>\n",
       "      <td>...</td>\n",
       "      <td>...</td>\n",
       "      <td>...</td>\n",
       "      <td>...</td>\n",
       "      <td>...</td>\n",
       "      <td>...</td>\n",
       "      <td>...</td>\n",
       "      <td>...</td>\n",
       "      <td>...</td>\n",
       "      <td>...</td>\n",
       "      <td>...</td>\n",
       "    </tr>\n",
       "    <tr>\n",
       "      <th>211219</th>\n",
       "      <td>0x72743ae2822edd658c0c50608fd7c5c501b2afbd</td>\n",
       "      <td>FARTCOIN</td>\n",
       "      <td>1.1010</td>\n",
       "      <td>382.20</td>\n",
       "      <td>420.80</td>\n",
       "      <td>SELL</td>\n",
       "      <td>7546.600000</td>\n",
       "      <td>Close Long</td>\n",
       "      <td>-20.2566</td>\n",
       "      <td>0xcd339c08dc7b615a993c0422374d8e02027400092bc2...</td>\n",
       "      <td>88803313862</td>\n",
       "      <td>False</td>\n",
       "      <td>0.042080</td>\n",
       "      <td>1.990000e+14</td>\n",
       "      <td>1.750000e+12</td>\n",
       "      <td>25-04-2025</td>\n",
       "      <td>15:35</td>\n",
       "    </tr>\n",
       "    <tr>\n",
       "      <th>211220</th>\n",
       "      <td>0x72743ae2822edd658c0c50608fd7c5c501b2afbd</td>\n",
       "      <td>FARTCOIN</td>\n",
       "      <td>1.1010</td>\n",
       "      <td>2124.10</td>\n",
       "      <td>2338.63</td>\n",
       "      <td>SELL</td>\n",
       "      <td>7164.400000</td>\n",
       "      <td>Close Long</td>\n",
       "      <td>-112.5773</td>\n",
       "      <td>0x29e8ede2a3a37aa0eac00422374d8e02029b00ac9f3c...</td>\n",
       "      <td>88803313862</td>\n",
       "      <td>False</td>\n",
       "      <td>0.233863</td>\n",
       "      <td>9.260000e+14</td>\n",
       "      <td>1.750000e+12</td>\n",
       "      <td>25-04-2025</td>\n",
       "      <td>15:35</td>\n",
       "    </tr>\n",
       "    <tr>\n",
       "      <th>211221</th>\n",
       "      <td>0x72743ae2822edd658c0c50608fd7c5c501b2afbd</td>\n",
       "      <td>FARTCOIN</td>\n",
       "      <td>1.1010</td>\n",
       "      <td>423.40</td>\n",
       "      <td>466.16</td>\n",
       "      <td>SELL</td>\n",
       "      <td>5040.300000</td>\n",
       "      <td>Close Long</td>\n",
       "      <td>-22.4402</td>\n",
       "      <td>0x0780085b0c0a943eea800422374d920204c100edf579...</td>\n",
       "      <td>88803313862</td>\n",
       "      <td>False</td>\n",
       "      <td>0.046616</td>\n",
       "      <td>6.930000e+14</td>\n",
       "      <td>1.750000e+12</td>\n",
       "      <td>25-04-2025</td>\n",
       "      <td>15:35</td>\n",
       "    </tr>\n",
       "    <tr>\n",
       "      <th>211222</th>\n",
       "      <td>0x72743ae2822edd658c0c50608fd7c5c501b2afbd</td>\n",
       "      <td>FARTCOIN</td>\n",
       "      <td>1.1010</td>\n",
       "      <td>3599.80</td>\n",
       "      <td>3963.38</td>\n",
       "      <td>SELL</td>\n",
       "      <td>4616.900000</td>\n",
       "      <td>Close Long</td>\n",
       "      <td>-190.7894</td>\n",
       "      <td>0x349c29934913b25c89e20422374d920204cd008b8a0e...</td>\n",
       "      <td>88803313862</td>\n",
       "      <td>False</td>\n",
       "      <td>0.396337</td>\n",
       "      <td>4.180000e+14</td>\n",
       "      <td>1.750000e+12</td>\n",
       "      <td>25-04-2025</td>\n",
       "      <td>15:35</td>\n",
       "    </tr>\n",
       "    <tr>\n",
       "      <th>211223</th>\n",
       "      <td>0x72743ae2822edd658c0c50608fd7c5c501b2afbd</td>\n",
       "      <td>FARTCOIN</td>\n",
       "      <td>1.1010</td>\n",
       "      <td>1017.10</td>\n",
       "      <td>1119.83</td>\n",
       "      <td>SELL</td>\n",
       "      <td>1017.100000</td>\n",
       "      <td>Close Long</td>\n",
       "      <td>-53.9063</td>\n",
       "      <td>0xac77fab973c455d77a670422374d9602039800f1f78c...</td>\n",
       "      <td>88803313862</td>\n",
       "      <td>False</td>\n",
       "      <td>0.111982</td>\n",
       "      <td>3.270000e+14</td>\n",
       "      <td>1.750000e+12</td>\n",
       "      <td>25-04-2025</td>\n",
       "      <td>15:35</td>\n",
       "    </tr>\n",
       "  </tbody>\n",
       "</table>\n",
       "<p>211224 rows × 17 columns</p>\n",
       "</div>"
      ],
      "text/plain": [
       "                                           Account      Coin  Execution Price  \\\n",
       "0       0xae5eacaf9c6b9111fd53034a602c192a04e082ed   Unknown           7.9769   \n",
       "1       0xae5eacaf9c6b9111fd53034a602c192a04e082ed   Unknown           7.9800   \n",
       "2       0xae5eacaf9c6b9111fd53034a602c192a04e082ed   Unknown           7.9855   \n",
       "3       0xae5eacaf9c6b9111fd53034a602c192a04e082ed   Unknown           7.9874   \n",
       "4       0xae5eacaf9c6b9111fd53034a602c192a04e082ed   Unknown           7.9894   \n",
       "...                                            ...       ...              ...   \n",
       "211219  0x72743ae2822edd658c0c50608fd7c5c501b2afbd  FARTCOIN           1.1010   \n",
       "211220  0x72743ae2822edd658c0c50608fd7c5c501b2afbd  FARTCOIN           1.1010   \n",
       "211221  0x72743ae2822edd658c0c50608fd7c5c501b2afbd  FARTCOIN           1.1010   \n",
       "211222  0x72743ae2822edd658c0c50608fd7c5c501b2afbd  FARTCOIN           1.1010   \n",
       "211223  0x72743ae2822edd658c0c50608fd7c5c501b2afbd  FARTCOIN           1.1010   \n",
       "\n",
       "        Size Tokens  Size USD  Side  Start Position   Direction  Closed PnL  \\\n",
       "0            986.87   7872.16   BUY        0.000000         Buy      0.0000   \n",
       "1             16.00    127.68   BUY      986.524596         Buy      0.0000   \n",
       "2            144.09   1150.63   BUY     1002.518996         Buy      0.0000   \n",
       "3            142.98   1142.04   BUY     1146.558564         Buy      0.0000   \n",
       "4              8.73     69.75   BUY     1289.488521         Buy      0.0000   \n",
       "...             ...       ...   ...             ...         ...         ...   \n",
       "211219       382.20    420.80  SELL     7546.600000  Close Long    -20.2566   \n",
       "211220      2124.10   2338.63  SELL     7164.400000  Close Long   -112.5773   \n",
       "211221       423.40    466.16  SELL     5040.300000  Close Long    -22.4402   \n",
       "211222      3599.80   3963.38  SELL     4616.900000  Close Long   -190.7894   \n",
       "211223      1017.10   1119.83  SELL     1017.100000  Close Long    -53.9063   \n",
       "\n",
       "                                         Transaction Hash     Order ID  \\\n",
       "0       0xec09451986a1874e3a980418412fcd0201f500c95bac...  52017706630   \n",
       "1       0xec09451986a1874e3a980418412fcd0201f500c95bac...  52017706630   \n",
       "2       0xec09451986a1874e3a980418412fcd0201f500c95bac...  52017706630   \n",
       "3       0xec09451986a1874e3a980418412fcd0201f500c95bac...  52017706630   \n",
       "4       0xec09451986a1874e3a980418412fcd0201f500c95bac...  52017706630   \n",
       "...                                                   ...          ...   \n",
       "211219  0xcd339c08dc7b615a993c0422374d8e02027400092bc2...  88803313862   \n",
       "211220  0x29e8ede2a3a37aa0eac00422374d8e02029b00ac9f3c...  88803313862   \n",
       "211221  0x0780085b0c0a943eea800422374d920204c100edf579...  88803313862   \n",
       "211222  0x349c29934913b25c89e20422374d920204cd008b8a0e...  88803313862   \n",
       "211223  0xac77fab973c455d77a670422374d9602039800f1f78c...  88803313862   \n",
       "\n",
       "        Crossed       Fee      Trade ID     Timestamp        Date   Time  \n",
       "0          True  0.345404  8.950000e+14  1.730000e+12  02-12-2024  22:50  \n",
       "1          True  0.005600  4.430000e+14  1.730000e+12  02-12-2024  22:50  \n",
       "2          True  0.050431  6.600000e+14  1.730000e+12  02-12-2024  22:50  \n",
       "3          True  0.050043  1.080000e+15  1.730000e+12  02-12-2024  22:50  \n",
       "4          True  0.003055  1.050000e+15  1.730000e+12  02-12-2024  22:50  \n",
       "...         ...       ...           ...           ...         ...    ...  \n",
       "211219    False  0.042080  1.990000e+14  1.750000e+12  25-04-2025  15:35  \n",
       "211220    False  0.233863  9.260000e+14  1.750000e+12  25-04-2025  15:35  \n",
       "211221    False  0.046616  6.930000e+14  1.750000e+12  25-04-2025  15:35  \n",
       "211222    False  0.396337  4.180000e+14  1.750000e+12  25-04-2025  15:35  \n",
       "211223    False  0.111982  3.270000e+14  1.750000e+12  25-04-2025  15:35  \n",
       "\n",
       "[211224 rows x 17 columns]"
      ]
     },
     "execution_count": 19,
     "metadata": {},
     "output_type": "execute_result"
    }
   ],
   "source": [
    "trade_df"
   ]
  },
  {
   "cell_type": "code",
   "execution_count": 20,
   "id": "96602fbb-3587-408d-945e-7a379438a261",
   "metadata": {},
   "outputs": [
    {
     "data": {
      "text/plain": [
       "np.int64(0)"
      ]
     },
     "execution_count": 20,
     "metadata": {},
     "output_type": "execute_result"
    }
   ],
   "source": [
    "sentiment_df.duplicated().sum()"
   ]
  },
  {
   "cell_type": "code",
   "execution_count": 21,
   "id": "e8cb8719-f7a1-4880-8f7a-f496e6909a85",
   "metadata": {},
   "outputs": [
    {
     "data": {
      "text/plain": [
       "np.int64(0)"
      ]
     },
     "execution_count": 21,
     "metadata": {},
     "output_type": "execute_result"
    }
   ],
   "source": [
    "trade_df.duplicated().sum()"
   ]
  },
  {
   "cell_type": "code",
   "execution_count": 22,
   "id": "733c8c6a-7bb5-44cd-acbc-0b515398b74c",
   "metadata": {},
   "outputs": [
    {
     "data": {
      "text/plain": [
       "np.False_"
      ]
     },
     "execution_count": 22,
     "metadata": {},
     "output_type": "execute_result"
    }
   ],
   "source": [
    "sentiment_df.isnull().values.any()"
   ]
  },
  {
   "cell_type": "code",
   "execution_count": 23,
   "id": "91909c93-748c-4eb7-8265-62e7d947216f",
   "metadata": {},
   "outputs": [
    {
     "data": {
      "text/plain": [
       "Index(['timestamp', 'value', 'classification', 'date'], dtype='object')"
      ]
     },
     "execution_count": 23,
     "metadata": {},
     "output_type": "execute_result"
    }
   ],
   "source": [
    "sentiment_df.columns"
   ]
  },
  {
   "cell_type": "code",
   "execution_count": 24,
   "id": "79d44e84-1b18-482e-b39f-82883b3b1898",
   "metadata": {},
   "outputs": [],
   "source": [
    "\n",
    "sentiment_df['date'] = pd.to_datetime(sentiment_df['date'], dayfirst=True).dt.date\n",
    "\n"
   ]
  },
  {
   "cell_type": "code",
   "execution_count": 25,
   "id": "03b0cd09-22b1-42cf-b452-15ea03b5fd7c",
   "metadata": {},
   "outputs": [],
   "source": [
    "sentiment_df.rename(columns={'date': 'Date'}, inplace=True)"
   ]
  },
  {
   "cell_type": "code",
   "execution_count": 26,
   "id": "3ad8a7b9-598f-4466-82e7-d5aca12bc8a1",
   "metadata": {},
   "outputs": [],
   "source": [
    "trade_df['Date'] = pd.to_datetime(sentiment_df['Date'], dayfirst=True).dt.date"
   ]
  },
  {
   "cell_type": "code",
   "execution_count": 27,
   "id": "359f7a73-a5aa-4da4-a80d-bd9845c10f9b",
   "metadata": {},
   "outputs": [],
   "source": [
    "merged_df = pd.merge(trade_df, sentiment_df, on='Date', how='inner')\n"
   ]
  },
  {
   "cell_type": "code",
   "execution_count": 28,
   "id": "d0666932-2d2d-42e5-9a81-e08122f57b2a",
   "metadata": {},
   "outputs": [
    {
     "data": {
      "text/html": [
       "<div>\n",
       "<style scoped>\n",
       "    .dataframe tbody tr th:only-of-type {\n",
       "        vertical-align: middle;\n",
       "    }\n",
       "\n",
       "    .dataframe tbody tr th {\n",
       "        vertical-align: top;\n",
       "    }\n",
       "\n",
       "    .dataframe thead th {\n",
       "        text-align: right;\n",
       "    }\n",
       "</style>\n",
       "<table border=\"1\" class=\"dataframe\">\n",
       "  <thead>\n",
       "    <tr style=\"text-align: right;\">\n",
       "      <th></th>\n",
       "      <th>Account</th>\n",
       "      <th>Coin</th>\n",
       "      <th>Execution Price</th>\n",
       "      <th>Size Tokens</th>\n",
       "      <th>Size USD</th>\n",
       "      <th>Side</th>\n",
       "      <th>Start Position</th>\n",
       "      <th>Direction</th>\n",
       "      <th>Closed PnL</th>\n",
       "      <th>Transaction Hash</th>\n",
       "      <th>Order ID</th>\n",
       "      <th>Crossed</th>\n",
       "      <th>Fee</th>\n",
       "      <th>Trade ID</th>\n",
       "      <th>Timestamp</th>\n",
       "      <th>Date</th>\n",
       "      <th>Time</th>\n",
       "      <th>timestamp</th>\n",
       "      <th>value</th>\n",
       "      <th>classification</th>\n",
       "    </tr>\n",
       "  </thead>\n",
       "  <tbody>\n",
       "    <tr>\n",
       "      <th>0</th>\n",
       "      <td>0xae5eacaf9c6b9111fd53034a602c192a04e082ed</td>\n",
       "      <td>Unknown</td>\n",
       "      <td>7.9769</td>\n",
       "      <td>986.87</td>\n",
       "      <td>7872.16</td>\n",
       "      <td>BUY</td>\n",
       "      <td>0.000000</td>\n",
       "      <td>Buy</td>\n",
       "      <td>0.000000</td>\n",
       "      <td>0xec09451986a1874e3a980418412fcd0201f500c95bac...</td>\n",
       "      <td>52017706630</td>\n",
       "      <td>True</td>\n",
       "      <td>0.345404</td>\n",
       "      <td>8.950000e+14</td>\n",
       "      <td>1.730000e+12</td>\n",
       "      <td>2018-02-01</td>\n",
       "      <td>22:50</td>\n",
       "      <td>1517463000</td>\n",
       "      <td>30</td>\n",
       "      <td>Fear</td>\n",
       "    </tr>\n",
       "    <tr>\n",
       "      <th>1</th>\n",
       "      <td>0xae5eacaf9c6b9111fd53034a602c192a04e082ed</td>\n",
       "      <td>Unknown</td>\n",
       "      <td>7.9800</td>\n",
       "      <td>16.00</td>\n",
       "      <td>127.68</td>\n",
       "      <td>BUY</td>\n",
       "      <td>986.524596</td>\n",
       "      <td>Buy</td>\n",
       "      <td>0.000000</td>\n",
       "      <td>0xec09451986a1874e3a980418412fcd0201f500c95bac...</td>\n",
       "      <td>52017706630</td>\n",
       "      <td>True</td>\n",
       "      <td>0.005600</td>\n",
       "      <td>4.430000e+14</td>\n",
       "      <td>1.730000e+12</td>\n",
       "      <td>2018-02-02</td>\n",
       "      <td>22:50</td>\n",
       "      <td>1517549400</td>\n",
       "      <td>15</td>\n",
       "      <td>Extreme Fear</td>\n",
       "    </tr>\n",
       "    <tr>\n",
       "      <th>2</th>\n",
       "      <td>0xae5eacaf9c6b9111fd53034a602c192a04e082ed</td>\n",
       "      <td>Unknown</td>\n",
       "      <td>7.9855</td>\n",
       "      <td>144.09</td>\n",
       "      <td>1150.63</td>\n",
       "      <td>BUY</td>\n",
       "      <td>1002.518996</td>\n",
       "      <td>Buy</td>\n",
       "      <td>0.000000</td>\n",
       "      <td>0xec09451986a1874e3a980418412fcd0201f500c95bac...</td>\n",
       "      <td>52017706630</td>\n",
       "      <td>True</td>\n",
       "      <td>0.050431</td>\n",
       "      <td>6.600000e+14</td>\n",
       "      <td>1.730000e+12</td>\n",
       "      <td>2018-02-03</td>\n",
       "      <td>22:50</td>\n",
       "      <td>1517635800</td>\n",
       "      <td>40</td>\n",
       "      <td>Fear</td>\n",
       "    </tr>\n",
       "    <tr>\n",
       "      <th>3</th>\n",
       "      <td>0xae5eacaf9c6b9111fd53034a602c192a04e082ed</td>\n",
       "      <td>Unknown</td>\n",
       "      <td>7.9874</td>\n",
       "      <td>142.98</td>\n",
       "      <td>1142.04</td>\n",
       "      <td>BUY</td>\n",
       "      <td>1146.558564</td>\n",
       "      <td>Buy</td>\n",
       "      <td>0.000000</td>\n",
       "      <td>0xec09451986a1874e3a980418412fcd0201f500c95bac...</td>\n",
       "      <td>52017706630</td>\n",
       "      <td>True</td>\n",
       "      <td>0.050043</td>\n",
       "      <td>1.080000e+15</td>\n",
       "      <td>1.730000e+12</td>\n",
       "      <td>2018-02-04</td>\n",
       "      <td>22:50</td>\n",
       "      <td>1517722200</td>\n",
       "      <td>24</td>\n",
       "      <td>Extreme Fear</td>\n",
       "    </tr>\n",
       "    <tr>\n",
       "      <th>4</th>\n",
       "      <td>0xae5eacaf9c6b9111fd53034a602c192a04e082ed</td>\n",
       "      <td>Unknown</td>\n",
       "      <td>7.9894</td>\n",
       "      <td>8.73</td>\n",
       "      <td>69.75</td>\n",
       "      <td>BUY</td>\n",
       "      <td>1289.488521</td>\n",
       "      <td>Buy</td>\n",
       "      <td>0.000000</td>\n",
       "      <td>0xec09451986a1874e3a980418412fcd0201f500c95bac...</td>\n",
       "      <td>52017706630</td>\n",
       "      <td>True</td>\n",
       "      <td>0.003055</td>\n",
       "      <td>1.050000e+15</td>\n",
       "      <td>1.730000e+12</td>\n",
       "      <td>2018-02-05</td>\n",
       "      <td>22:50</td>\n",
       "      <td>1517808600</td>\n",
       "      <td>11</td>\n",
       "      <td>Extreme Fear</td>\n",
       "    </tr>\n",
       "    <tr>\n",
       "      <th>...</th>\n",
       "      <td>...</td>\n",
       "      <td>...</td>\n",
       "      <td>...</td>\n",
       "      <td>...</td>\n",
       "      <td>...</td>\n",
       "      <td>...</td>\n",
       "      <td>...</td>\n",
       "      <td>...</td>\n",
       "      <td>...</td>\n",
       "      <td>...</td>\n",
       "      <td>...</td>\n",
       "      <td>...</td>\n",
       "      <td>...</td>\n",
       "      <td>...</td>\n",
       "      <td>...</td>\n",
       "      <td>...</td>\n",
       "      <td>...</td>\n",
       "      <td>...</td>\n",
       "      <td>...</td>\n",
       "      <td>...</td>\n",
       "    </tr>\n",
       "    <tr>\n",
       "      <th>2639</th>\n",
       "      <td>0x513b8629fe877bb581bf244e326a047b249c4ff1</td>\n",
       "      <td>Unknown</td>\n",
       "      <td>24.8930</td>\n",
       "      <td>10.00</td>\n",
       "      <td>248.93</td>\n",
       "      <td>SELL</td>\n",
       "      <td>2753.069748</td>\n",
       "      <td>Sell</td>\n",
       "      <td>51.465938</td>\n",
       "      <td>0x889b8d1cdc3f424c30fe041db2b39202010300c462bf...</td>\n",
       "      <td>72089199468</td>\n",
       "      <td>True</td>\n",
       "      <td>0.083640</td>\n",
       "      <td>6.910000e+14</td>\n",
       "      <td>1.740000e+12</td>\n",
       "      <td>2025-04-28</td>\n",
       "      <td>00:31</td>\n",
       "      <td>1745818200</td>\n",
       "      <td>54</td>\n",
       "      <td>Neutral</td>\n",
       "    </tr>\n",
       "    <tr>\n",
       "      <th>2640</th>\n",
       "      <td>0x513b8629fe877bb581bf244e326a047b249c4ff1</td>\n",
       "      <td>Unknown</td>\n",
       "      <td>24.8910</td>\n",
       "      <td>81.05</td>\n",
       "      <td>2017.42</td>\n",
       "      <td>SELL</td>\n",
       "      <td>2743.069748</td>\n",
       "      <td>Sell</td>\n",
       "      <td>416.969323</td>\n",
       "      <td>0x889b8d1cdc3f424c30fe041db2b39202010300c462bf...</td>\n",
       "      <td>72089199468</td>\n",
       "      <td>True</td>\n",
       "      <td>0.677851</td>\n",
       "      <td>9.580000e+14</td>\n",
       "      <td>1.740000e+12</td>\n",
       "      <td>2025-04-29</td>\n",
       "      <td>00:31</td>\n",
       "      <td>1745904600</td>\n",
       "      <td>60</td>\n",
       "      <td>Greed</td>\n",
       "    </tr>\n",
       "    <tr>\n",
       "      <th>2641</th>\n",
       "      <td>0x513b8629fe877bb581bf244e326a047b249c4ff1</td>\n",
       "      <td>Unknown</td>\n",
       "      <td>24.8910</td>\n",
       "      <td>81.05</td>\n",
       "      <td>2017.42</td>\n",
       "      <td>SELL</td>\n",
       "      <td>2662.019748</td>\n",
       "      <td>Sell</td>\n",
       "      <td>416.969323</td>\n",
       "      <td>0x889b8d1cdc3f424c30fe041db2b39202010300c462bf...</td>\n",
       "      <td>72089199468</td>\n",
       "      <td>True</td>\n",
       "      <td>0.677851</td>\n",
       "      <td>1.080000e+15</td>\n",
       "      <td>1.740000e+12</td>\n",
       "      <td>2025-04-30</td>\n",
       "      <td>00:31</td>\n",
       "      <td>1745991000</td>\n",
       "      <td>56</td>\n",
       "      <td>Greed</td>\n",
       "    </tr>\n",
       "    <tr>\n",
       "      <th>2642</th>\n",
       "      <td>0x513b8629fe877bb581bf244e326a047b249c4ff1</td>\n",
       "      <td>Unknown</td>\n",
       "      <td>24.8900</td>\n",
       "      <td>1.67</td>\n",
       "      <td>41.57</td>\n",
       "      <td>SELL</td>\n",
       "      <td>2580.969748</td>\n",
       "      <td>Sell</td>\n",
       "      <td>8.589802</td>\n",
       "      <td>0x889b8d1cdc3f424c30fe041db2b39202010300c462bf...</td>\n",
       "      <td>72089199468</td>\n",
       "      <td>True</td>\n",
       "      <td>0.013966</td>\n",
       "      <td>9.100000e+14</td>\n",
       "      <td>1.740000e+12</td>\n",
       "      <td>2025-05-01</td>\n",
       "      <td>00:31</td>\n",
       "      <td>1746077400</td>\n",
       "      <td>53</td>\n",
       "      <td>Neutral</td>\n",
       "    </tr>\n",
       "    <tr>\n",
       "      <th>2643</th>\n",
       "      <td>0x513b8629fe877bb581bf244e326a047b249c4ff1</td>\n",
       "      <td>Unknown</td>\n",
       "      <td>24.8870</td>\n",
       "      <td>4.80</td>\n",
       "      <td>119.46</td>\n",
       "      <td>SELL</td>\n",
       "      <td>2579.299748</td>\n",
       "      <td>Sell</td>\n",
       "      <td>24.674850</td>\n",
       "      <td>0x889b8d1cdc3f424c30fe041db2b39202010300c462bf...</td>\n",
       "      <td>72089199468</td>\n",
       "      <td>True</td>\n",
       "      <td>0.040137</td>\n",
       "      <td>5.590000e+14</td>\n",
       "      <td>1.740000e+12</td>\n",
       "      <td>2025-05-02</td>\n",
       "      <td>00:31</td>\n",
       "      <td>1746163800</td>\n",
       "      <td>67</td>\n",
       "      <td>Greed</td>\n",
       "    </tr>\n",
       "  </tbody>\n",
       "</table>\n",
       "<p>2644 rows × 20 columns</p>\n",
       "</div>"
      ],
      "text/plain": [
       "                                         Account     Coin  Execution Price  \\\n",
       "0     0xae5eacaf9c6b9111fd53034a602c192a04e082ed  Unknown           7.9769   \n",
       "1     0xae5eacaf9c6b9111fd53034a602c192a04e082ed  Unknown           7.9800   \n",
       "2     0xae5eacaf9c6b9111fd53034a602c192a04e082ed  Unknown           7.9855   \n",
       "3     0xae5eacaf9c6b9111fd53034a602c192a04e082ed  Unknown           7.9874   \n",
       "4     0xae5eacaf9c6b9111fd53034a602c192a04e082ed  Unknown           7.9894   \n",
       "...                                          ...      ...              ...   \n",
       "2639  0x513b8629fe877bb581bf244e326a047b249c4ff1  Unknown          24.8930   \n",
       "2640  0x513b8629fe877bb581bf244e326a047b249c4ff1  Unknown          24.8910   \n",
       "2641  0x513b8629fe877bb581bf244e326a047b249c4ff1  Unknown          24.8910   \n",
       "2642  0x513b8629fe877bb581bf244e326a047b249c4ff1  Unknown          24.8900   \n",
       "2643  0x513b8629fe877bb581bf244e326a047b249c4ff1  Unknown          24.8870   \n",
       "\n",
       "      Size Tokens  Size USD  Side  Start Position Direction  Closed PnL  \\\n",
       "0          986.87   7872.16   BUY        0.000000       Buy    0.000000   \n",
       "1           16.00    127.68   BUY      986.524596       Buy    0.000000   \n",
       "2          144.09   1150.63   BUY     1002.518996       Buy    0.000000   \n",
       "3          142.98   1142.04   BUY     1146.558564       Buy    0.000000   \n",
       "4            8.73     69.75   BUY     1289.488521       Buy    0.000000   \n",
       "...           ...       ...   ...             ...       ...         ...   \n",
       "2639        10.00    248.93  SELL     2753.069748      Sell   51.465938   \n",
       "2640        81.05   2017.42  SELL     2743.069748      Sell  416.969323   \n",
       "2641        81.05   2017.42  SELL     2662.019748      Sell  416.969323   \n",
       "2642         1.67     41.57  SELL     2580.969748      Sell    8.589802   \n",
       "2643         4.80    119.46  SELL     2579.299748      Sell   24.674850   \n",
       "\n",
       "                                       Transaction Hash     Order ID  Crossed  \\\n",
       "0     0xec09451986a1874e3a980418412fcd0201f500c95bac...  52017706630     True   \n",
       "1     0xec09451986a1874e3a980418412fcd0201f500c95bac...  52017706630     True   \n",
       "2     0xec09451986a1874e3a980418412fcd0201f500c95bac...  52017706630     True   \n",
       "3     0xec09451986a1874e3a980418412fcd0201f500c95bac...  52017706630     True   \n",
       "4     0xec09451986a1874e3a980418412fcd0201f500c95bac...  52017706630     True   \n",
       "...                                                 ...          ...      ...   \n",
       "2639  0x889b8d1cdc3f424c30fe041db2b39202010300c462bf...  72089199468     True   \n",
       "2640  0x889b8d1cdc3f424c30fe041db2b39202010300c462bf...  72089199468     True   \n",
       "2641  0x889b8d1cdc3f424c30fe041db2b39202010300c462bf...  72089199468     True   \n",
       "2642  0x889b8d1cdc3f424c30fe041db2b39202010300c462bf...  72089199468     True   \n",
       "2643  0x889b8d1cdc3f424c30fe041db2b39202010300c462bf...  72089199468     True   \n",
       "\n",
       "           Fee      Trade ID     Timestamp        Date   Time   timestamp  \\\n",
       "0     0.345404  8.950000e+14  1.730000e+12  2018-02-01  22:50  1517463000   \n",
       "1     0.005600  4.430000e+14  1.730000e+12  2018-02-02  22:50  1517549400   \n",
       "2     0.050431  6.600000e+14  1.730000e+12  2018-02-03  22:50  1517635800   \n",
       "3     0.050043  1.080000e+15  1.730000e+12  2018-02-04  22:50  1517722200   \n",
       "4     0.003055  1.050000e+15  1.730000e+12  2018-02-05  22:50  1517808600   \n",
       "...        ...           ...           ...         ...    ...         ...   \n",
       "2639  0.083640  6.910000e+14  1.740000e+12  2025-04-28  00:31  1745818200   \n",
       "2640  0.677851  9.580000e+14  1.740000e+12  2025-04-29  00:31  1745904600   \n",
       "2641  0.677851  1.080000e+15  1.740000e+12  2025-04-30  00:31  1745991000   \n",
       "2642  0.013966  9.100000e+14  1.740000e+12  2025-05-01  00:31  1746077400   \n",
       "2643  0.040137  5.590000e+14  1.740000e+12  2025-05-02  00:31  1746163800   \n",
       "\n",
       "      value classification  \n",
       "0        30           Fear  \n",
       "1        15   Extreme Fear  \n",
       "2        40           Fear  \n",
       "3        24   Extreme Fear  \n",
       "4        11   Extreme Fear  \n",
       "...     ...            ...  \n",
       "2639     54        Neutral  \n",
       "2640     60          Greed  \n",
       "2641     56          Greed  \n",
       "2642     53        Neutral  \n",
       "2643     67          Greed  \n",
       "\n",
       "[2644 rows x 20 columns]"
      ]
     },
     "execution_count": 28,
     "metadata": {},
     "output_type": "execute_result"
    }
   ],
   "source": [
    "merged_df"
   ]
  },
  {
   "cell_type": "code",
   "execution_count": 29,
   "id": "ce8ae938-c7fa-4614-87b7-14a2ef4c8da3",
   "metadata": {},
   "outputs": [
    {
     "data": {
      "text/plain": [
       "Index(['Account', 'Coin', 'Execution Price', 'Size Tokens', 'Size USD', 'Side',\n",
       "       'Start Position', 'Direction', 'Closed PnL', 'Transaction Hash',\n",
       "       'Order ID', 'Crossed', 'Fee', 'Trade ID', 'Timestamp', 'Date', 'Time',\n",
       "       'timestamp', 'value', 'classification'],\n",
       "      dtype='object')"
      ]
     },
     "execution_count": 29,
     "metadata": {},
     "output_type": "execute_result"
    }
   ],
   "source": [
    "merged_df.columns"
   ]
  },
  {
   "cell_type": "code",
   "execution_count": 30,
   "id": "3fb0faac-becf-4f5d-a1ee-b92d7d0b6992",
   "metadata": {},
   "outputs": [
    {
     "data": {
      "text/plain": [
       "False"
      ]
     },
     "execution_count": 30,
     "metadata": {},
     "output_type": "execute_result"
    }
   ],
   "source": [
    "merged_df.empty"
   ]
  },
  {
   "cell_type": "code",
   "execution_count": 31,
   "id": "2e963180-e98f-43cb-9c0d-59c01ef48ff4",
   "metadata": {},
   "outputs": [],
   "source": [
    "sentiment_performance = merged_df.groupby('classification').agg({\n",
    "    'Closed PnL': ['sum', 'mean', 'std']}).reset_index()"
   ]
  },
  {
   "cell_type": "markdown",
   "id": "60d4b9e9-8a23-4251-978f-b412c592c8bd",
   "metadata": {},
   "source": [
    "##Analyze trader performance in different sentiment regimes "
   ]
  },
  {
   "cell_type": "code",
   "execution_count": 32,
   "id": "e9170437-04fc-4b9d-8097-5a5d212611dd",
   "metadata": {},
   "outputs": [
    {
     "data": {
      "text/html": [
       "<div>\n",
       "<style scoped>\n",
       "    .dataframe tbody tr th:only-of-type {\n",
       "        vertical-align: middle;\n",
       "    }\n",
       "\n",
       "    .dataframe tbody tr th {\n",
       "        vertical-align: top;\n",
       "    }\n",
       "\n",
       "    .dataframe thead tr th {\n",
       "        text-align: left;\n",
       "    }\n",
       "</style>\n",
       "<table border=\"1\" class=\"dataframe\">\n",
       "  <thead>\n",
       "    <tr>\n",
       "      <th></th>\n",
       "      <th>classification</th>\n",
       "      <th colspan=\"3\" halign=\"left\">Closed PnL</th>\n",
       "    </tr>\n",
       "    <tr>\n",
       "      <th></th>\n",
       "      <th></th>\n",
       "      <th>sum</th>\n",
       "      <th>mean</th>\n",
       "      <th>std</th>\n",
       "    </tr>\n",
       "  </thead>\n",
       "  <tbody>\n",
       "    <tr>\n",
       "      <th>0</th>\n",
       "      <td>Extreme Fear</td>\n",
       "      <td>162442.245394</td>\n",
       "      <td>319.768200</td>\n",
       "      <td>1290.262479</td>\n",
       "    </tr>\n",
       "    <tr>\n",
       "      <th>1</th>\n",
       "      <td>Extreme Greed</td>\n",
       "      <td>46688.869073</td>\n",
       "      <td>143.217390</td>\n",
       "      <td>643.395815</td>\n",
       "    </tr>\n",
       "    <tr>\n",
       "      <th>2</th>\n",
       "      <td>Fear</td>\n",
       "      <td>227543.293533</td>\n",
       "      <td>291.348647</td>\n",
       "      <td>1580.188681</td>\n",
       "    </tr>\n",
       "    <tr>\n",
       "      <th>3</th>\n",
       "      <td>Greed</td>\n",
       "      <td>162094.122129</td>\n",
       "      <td>256.072863</td>\n",
       "      <td>1089.834886</td>\n",
       "    </tr>\n",
       "    <tr>\n",
       "      <th>4</th>\n",
       "      <td>Neutral</td>\n",
       "      <td>52949.286800</td>\n",
       "      <td>133.710320</td>\n",
       "      <td>978.731785</td>\n",
       "    </tr>\n",
       "  </tbody>\n",
       "</table>\n",
       "</div>"
      ],
      "text/plain": [
       "  classification     Closed PnL                         \n",
       "                            sum        mean          std\n",
       "0   Extreme Fear  162442.245394  319.768200  1290.262479\n",
       "1  Extreme Greed   46688.869073  143.217390   643.395815\n",
       "2           Fear  227543.293533  291.348647  1580.188681\n",
       "3          Greed  162094.122129  256.072863  1089.834886\n",
       "4        Neutral   52949.286800  133.710320   978.731785"
      ]
     },
     "execution_count": 32,
     "metadata": {},
     "output_type": "execute_result"
    }
   ],
   "source": [
    "sentiment_performance"
   ]
  },
  {
   "cell_type": "markdown",
   "id": "7c23fb9c-b803-4125-a85b-53b52a2078c2",
   "metadata": {},
   "source": [
    "## plot average PnL by sentiment\n"
   ]
  },
  {
   "cell_type": "code",
   "execution_count": 33,
   "id": "c225aaf6-bb54-424f-94c8-3bc9651fada7",
   "metadata": {},
   "outputs": [
    {
     "name": "stderr",
     "output_type": "stream",
     "text": [
      "C:\\Users\\nidhi\\AppData\\Local\\Temp\\ipykernel_13816\\4027740500.py:4: FutureWarning: \n",
      "\n",
      "Passing `palette` without assigning `hue` is deprecated and will be removed in v0.14.0. Assign the `x` variable to `hue` and set `legend=False` for the same effect.\n",
      "\n",
      "  sns.barplot(x='classification', y='Closed PnL', data=avg_pnl, palette='coolwarm')\n"
     ]
    },
    {
     "data": {
      "image/png": "[encoded data removed]",
      "text/plain": [
       "<Figure size 800x500 with 1 Axes>"
      ]
     },
     "metadata": {},
     "output_type": "display_data"
    }
   ],
   "source": [
    "avg_pnl = merged_df.groupby('classification')['Closed PnL'].mean().reset_index()\n",
    "\n",
    "plt.figure(figsize=(8,5))\n",
    "sns.barplot(x='classification', y='Closed PnL', data=avg_pnl, palette='coolwarm')\n",
    "plt.title('Average Closed PnL by Market Sentiment')\n",
    "plt.ylabel('Average Closed PnL')\n",
    "plt.xlabel('Market Sentiment')\n",
    "plt.show()"
   ]
  },
  {
   "cell_type": "markdown",
   "id": "79a6f69d-41ef-4f06-947e-b23b10a2613b",
   "metadata": {},
   "source": [
    "## Distribution of Closed PnL under different sentiments"
   ]
  },
  {
   "cell_type": "code",
   "execution_count": 34,
   "id": "3f195649-0fe8-4b4f-a2cd-e338632d0da6",
   "metadata": {},
   "outputs": [
    {
     "data": {
      "image/png": "[encoded data removed]",
      "text/plain": [
       "<Figure size 1000x600 with 1 Axes>"
      ]
     },
     "metadata": {},
     "output_type": "display_data"
    }
   ],
   "source": [
    "plt.figure(figsize=(10,6))\n",
    "sns.boxplot(x='classification', y='Closed PnL', data=merged_df)\n",
    "plt.title('Distribution of Closed PnL by Market Sentiment')\n",
    "plt.ylabel('Closed PnL')\n",
    "plt.xlabel('Sentiment')\n",
    "plt.show()\n"
   ]
  },
  {
   "cell_type": "code",
   "execution_count": 35,
   "id": "1d43e67a-794e-462b-be67-170a3a58ca7d",
   "metadata": {},
   "outputs": [],
   "source": [
    "merged_df['ROI'] = (merged_df['Closed PnL'] / merged_df['Start Position']) * 100\n"
   ]
  },
  {
   "cell_type": "markdown",
   "id": "9696b3a7-ff2d-4c0b-ab2b-278f0610d8b4",
   "metadata": {},
   "source": [
    "## Average Return on Investment(ROI) by sentiment"
   ]
  },
  {
   "cell_type": "code",
   "execution_count": 36,
   "id": "f487c558-85ad-4b28-b270-a97e79588af9",
   "metadata": {},
   "outputs": [
    {
     "name": "stderr",
     "output_type": "stream",
     "text": [
      "C:\\Users\\nidhi\\AppData\\Local\\Temp\\ipykernel_13816\\3516016673.py:4: FutureWarning: \n",
      "\n",
      "Passing `palette` without assigning `hue` is deprecated and will be removed in v0.14.0. Assign the `x` variable to `hue` and set `legend=False` for the same effect.\n",
      "\n",
      "  sns.barplot(x='classification', y='ROI', data=avg_roi_sentiment, palette='coolwarm')\n"
     ]
    },
    {
     "data": {
      "image/png": "[encoded data removed]",
      "text/plain": [
       "<Figure size 800x500 with 1 Axes>"
      ]
     },
     "metadata": {},
     "output_type": "display_data"
    }
   ],
   "source": [
    "avg_roi_sentiment = merged_df.groupby('classification')['ROI'].mean().reset_index()\n",
    "\n",
    "plt.figure(figsize=(8,5))\n",
    "sns.barplot(x='classification', y='ROI', data=avg_roi_sentiment, palette='coolwarm')\n",
    "plt.title('Average ROI by Market Sentiment')\n",
    "plt.ylabel('Average ROI')\n",
    "plt.xlabel('Sentiment')\n",
    "plt.show()"
   ]
  },
  {
   "cell_type": "markdown",
   "id": "975ba84b-30aa-4301-b4a2-b5ad900530e3",
   "metadata": {},
   "source": [
    "## Average Investment per Trade under Different Market Sentiments"
   ]
  },
  {
   "cell_type": "code",
   "execution_count": 37,
   "id": "b1527d82-a4ed-43a5-93bd-4e80a583b248",
   "metadata": {},
   "outputs": [
    {
     "name": "stderr",
     "output_type": "stream",
     "text": [
      "C:\\Users\\nidhi\\AppData\\Local\\Temp\\ipykernel_13816\\1890062666.py:4: FutureWarning: \n",
      "\n",
      "Passing `palette` without assigning `hue` is deprecated and will be removed in v0.14.0. Assign the `x` variable to `hue` and set `legend=False` for the same effect.\n",
      "\n",
      "  sns.barplot(x='classification', y='Size USD', data=avg_size, palette='coolwarm')\n"
     ]
    },
    {
     "data": {
      "image/png": "[encoded data removed]",
      "text/plain": [
       "<Figure size 800x500 with 1 Axes>"
      ]
     },
     "metadata": {},
     "output_type": "display_data"
    }
   ],
   "source": [
    "avg_size = merged_df.groupby('classification')['Size USD'].mean().reset_index()\n",
    "\n",
    "plt.figure(figsize=(8,5))\n",
    "sns.barplot(x='classification', y='Size USD', data=avg_size, palette='coolwarm')\n",
    "plt.title('Average Position Size vs Market Sentiment')\n",
    "plt.ylabel('Size USD')\n",
    "plt.xlabel('Sentiment')\n",
    "plt.show()\n"
   ]
  },
  {
   "cell_type": "markdown",
   "id": "f54487ed-5c79-40e4-aaf3-f3ae43322923",
   "metadata": {},
   "source": [
    "## Trade trend over different sentiments\n"
   ]
  },
  {
   "cell_type": "code",
   "execution_count": 38,
   "id": "3d2dd552-901b-40b4-b0c1-908a1df330f6",
   "metadata": {},
   "outputs": [
    {
     "data": {
      "image/png": "[encoded data removed]",
      "text/plain": [
       "<Figure size 600x600 with 1 Axes>"
      ]
     },
     "metadata": {},
     "output_type": "display_data"
    }
   ],
   "source": [
    "trade_count = merged_df['classification'].value_counts()\n",
    "\n",
    "plt.figure(figsize=(6,6))\n",
    "plt.pie(trade_count, labels=trade_count.index, autopct='%1.1f%%', colors=sns.color_palette('pastel'))\n",
    "plt.title('Trade Count Distribution by Market Sentiment')\n",
    "plt.show()\n"
   ]
  },
  {
   "cell_type": "markdown",
   "id": "0e8d4c9c-c8cb-4e19-a06b-c8dab425752a",
   "metadata": {},
   "source": [
    "## sentiment impact on trading activities"
   ]
  },
  {
   "cell_type": "code",
   "execution_count": 39,
   "id": "f1319622-90d7-40d1-a753-4ec62acd35bb",
   "metadata": {},
   "outputs": [
    {
     "data": {
      "image/png": "[encoded data removed]",
      "text/plain": [
       "<Figure size 1000x600 with 1 Axes>"
      ]
     },
     "metadata": {},
     "output_type": "display_data"
    }
   ],
   "source": [
    "grouped = merged_df.groupby(['classification', 'Side']).size().unstack()\n",
    "\n",
    "grouped.plot(kind='bar', stacked=True, figsize=(10,6), colormap='tab20')\n",
    "plt.title('Trade Counts by Market Sentiment and Side')\n",
    "plt.xlabel('Market Sentiment')\n",
    "plt.ylabel('Number of Trades')\n",
    "plt.legend(title='Side')\n",
    "plt.show()\n"
   ]
  },
  {
   "cell_type": "code",
   "execution_count": null,
   "id": "38feb1d5-5b82-4a56-a660-1a143a7d51ec",
   "metadata": {},
   "outputs": [],
   "source": []
  }
 ],
 "metadata": {
  "kernelspec": {
   "display_name": "Python 3 (ipykernel)",
   "language": "python",
   "name": "python3"
  },
  "language_info": {
   "codemirror_mode": {
    "name": "ipython",
    "version": 3
   },
   "file_extension": ".py",
   "mimetype": "text/x-python",
   "name": "python",
   "nbconvert_exporter": "python",
   "pygments_lexer": "ipython3",
   "version": "3.12.1"
  }
 },
 "nbformat": 4,
 "nbformat_minor": 5
}
